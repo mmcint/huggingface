{
  "nbformat": 4,
  "nbformat_minor": 0,
  "metadata": {
    "colab": {
      "provenance": [],
      "include_colab_link": true
    },
    "kernelspec": {
      "name": "python3",
      "display_name": "Python 3"
    },
    "language_info": {
      "name": "python"
    }
  },
  "cells": [
    {
      "cell_type": "markdown",
      "metadata": {
        "id": "view-in-github",
        "colab_type": "text"
      },
      "source": [
        "<a href=\"https://colab.research.google.com/github/mmcint/huggingface/blob/main/huggingface_template.ipynb\" target=\"_parent\"><img src=\"https://colab.research.google.com/assets/colab-badge.svg\" alt=\"Open In Colab\"/></a>"
      ]
    },
    {
      "cell_type": "markdown",
      "source": [
        "# HuggingFace Template"
      ],
      "metadata": {
        "id": "olXiit72Dsds"
      }
    },
    {
      "cell_type": "markdown",
      "source": [
        "Imports"
      ],
      "metadata": {
        "id": "y_wn5cYbFX1B"
      }
    },
    {
      "cell_type": "code",
      "execution_count": 1,
      "metadata": {
        "id": "0qu01CQEfVXq"
      },
      "outputs": [],
      "source": [
        "#!pip install huggingface_hub datasets"
      ]
    },
    {
      "cell_type": "code",
      "source": [
        "import scipy\n",
        "import numpy as np\n",
        "import pandas as pd\n",
        "import huggingface_hub\n",
        "from datasets import load_dataset"
      ],
      "metadata": {
        "id": "JJ7wGLo0fdqJ"
      },
      "execution_count": 2,
      "outputs": []
    },
    {
      "cell_type": "markdown",
      "source": [
        "Converyting a HuggingFace seismic dataset to a 3D Numpy array"
      ],
      "metadata": {
        "id": "iOZ6iZGLFBpd"
      }
    },
    {
      "cell_type": "code",
      "source": [
        "def parquet2array(parquet_file, original_shape=(300,300,1259)):\n",
        "    df = pd.read_parquet(parquet_file)\n",
        "    data_only = df.drop(columns=['Row', 'Col'])\n",
        "    # Convert the DataFrame back to a 2D numpy array\n",
        "    reshaped_array = data_only.values\n",
        "    # Reshape the 2D array back into a 3D array\n",
        "    array = reshaped_array.reshape(original_shape)\n",
        "    return array"
      ],
      "metadata": {
        "id": "Lsl8w2MBfz9t"
      },
      "execution_count": 7,
      "outputs": []
    },
    {
      "cell_type": "markdown",
      "source": [
        "Log into HuggingFace here using Colab secrets"
      ],
      "metadata": {
        "id": "nHa_VoQxFKHO"
      }
    },
    {
      "cell_type": "code",
      "source": [
        "from google.colab import userdata\n",
        "HF_TOKEN = userdata.get('HF_TOKEN')"
      ],
      "metadata": {
        "id": "NwviJya9vpbW"
      },
      "execution_count": 3,
      "outputs": []
    },
    {
      "cell_type": "code",
      "source": [
        "huggingface_hub.login(token=HF_TOKEN, add_to_git_credential=True)"
      ],
      "metadata": {
        "colab": {
          "base_uri": "https://localhost:8080/"
        },
        "id": "TWJ_ohWPo4uz",
        "outputId": "8d09ec19-584e-4237-9a99-0b220329004a"
      },
      "execution_count": 5,
      "outputs": [
        {
          "output_type": "stream",
          "name": "stdout",
          "text": [
            "Token is valid (permission: write).\n",
            "Your token has been saved in your configured git credential helpers (store).\n",
            "Your token has been saved to /root/.cache/huggingface/token\n",
            "Login successful\n"
          ]
        }
      ]
    },
    {
      "cell_type": "markdown",
      "source": [
        "Load seismic data from HuggingFace Hub. The great part about HuggingFace is we can directly import into pandas using `pd.read_parquet('hf://dataset/path/here')`."
      ],
      "metadata": {
        "id": "KMSbw_UIFhkA"
      }
    },
    {
      "cell_type": "code",
      "source": [
        "seismic_data = parquet2array('hf://datasets/thinkonward/patch-the-planet/data/seismicCubes_RFC_fullstack_2023_66442858.parquet')"
      ],
      "metadata": {
        "id": "xZG0bonwpT_u"
      },
      "execution_count": 8,
      "outputs": []
    },
    {
      "cell_type": "code",
      "source": [
        "seismic_data.shape"
      ],
      "metadata": {
        "colab": {
          "base_uri": "https://localhost:8080/"
        },
        "id": "E5nt81wXg1St",
        "outputId": "d2ff8f28-a86e-4d9e-87fd-f7483f3a969f"
      },
      "execution_count": 10,
      "outputs": [
        {
          "output_type": "execute_result",
          "data": {
            "text/plain": [
              "(300, 300, 1259)"
            ]
          },
          "metadata": {},
          "execution_count": 10
        }
      ]
    },
    {
      "cell_type": "markdown",
      "source": [
        "Importing the GFM from HuggingFace Hub"
      ],
      "metadata": {
        "id": "3-vZoZ-uys-Q"
      }
    },
    {
      "cell_type": "code",
      "source": [],
      "metadata": {
        "id": "gRQXR4UY2VBq"
      },
      "execution_count": null,
      "outputs": []
    }
  ]
}